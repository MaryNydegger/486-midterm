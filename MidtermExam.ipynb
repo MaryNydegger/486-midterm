{
 "cells": [
  {
   "cell_type": "markdown",
   "id": "fe184906",
   "metadata": {},
   "source": [
    "# Midterm Exam\n",
    "\n",
    "The data for this exam is a subset of the forest cover type data that has been used in several machine learning publications.  Find the subset of the data that you should use for the exam in my [Data GitHub repository](https://github.com/esnt/Data/tree/main/Forest) in the file called `forest.csv` (\"Forest\" folder in the main Data repo). \n",
    "\n",
    "Please include the requested code (and ONLY the requested code) in the appropriate cells below the questions.  Extra code that you used for exploring the data, building and evaluating models, and anything else, should be *well-documented* and included at the end of the notebook. As you answer the questions below, keep the following in mind:\n",
    "\n",
    "* There is not necessarily a \"best\" model that I am expecting you to find\n",
    "* You do not need to try every single type of model that we have learned in class, but I am interested in the reasons that you chose to use or not use certain models.\n",
    "* I should be able to run your notebook without error\n",
    "* You should not use ChatGPT or similar tool to help you write the code or answer the questions, but you are allowed to use the books, LearningSuite, and the internet.\n",
    "\n",
    "When you are finished, be sure this completed .ipynb file is in the GitHub repository.  "
   ]
  },
  {
   "cell_type": "markdown",
   "id": "454d55eb",
   "metadata": {},
   "source": [
    "### Variables\n",
    "\n",
    "Here is a description of the variables included in the data.  The target is `Cover_Type`.\n",
    "\n",
    "**Name / Data Type / Measurement / Description**\n",
    "\n",
    "* Elevation / quantitative /meters / Elevation in meters\n",
    "* Aspect / quantitative / azimuth / Aspect in degrees azimuth\n",
    "* Slope / quantitative / degrees / Slope in degrees\n",
    "* Horizontal_Distance_To_Hydrology / quantitative / meters / Horz Dist to nearest surface water features\n",
    "* Vertical_Distance_To_Hydrology / quantitative / meters / Vert Dist to nearest surface water features\n",
    "* Horizontal_Distance_To_Roadways / quantitative / meters / Horz Dist to nearest roadway\n",
    "* Hillshade_9am / quantitative / 0 to 255 index / Hillshade index at 9am, summer solstice\n",
    "* Hillshade_Noon / quantitative / 0 to 255 index / Hillshade index at noon, summer soltice\n",
    "* Hillshade_3pm / quantitative / 0 to 255 index / Hillshade index at 3pm, summer solstice\n",
    "* Horizontal_Distance_To_Fire_Points / quantitative / meters / Horz Dist to nearest wildfire ignition points\n",
    "* Wilderness_Area / qualitative / A1-A4 / Wilderness area designation\n",
    "* Soil_Type  / qualitative / S1-S40 / Soil Type designation\n",
    "* Cover_Type (2 types) / integer / 1 and 2 / Forest Cover Type designation (original data has 7 types)"
   ]
  },
  {
   "cell_type": "markdown",
   "id": "79df21e0",
   "metadata": {},
   "source": [
    "## 1. Import libraries\n",
    "Import all the libraries that are necessary for running your code. "
   ]
  },
  {
   "cell_type": "code",
   "execution_count": 67,
   "id": "34b7462b",
   "metadata": {},
   "outputs": [],
   "source": [
    "# code here\n",
    "import matplotlib.pyplot as plt \n",
    "import numpy as np\n",
    "from sklearn.model_selection import train_test_split, GridSearchCV\n",
    "from sklearn.metrics import accuracy_score, f1_score, roc_auc_score, mean_squared_error\n",
    "from sklearn.tree import DecisionTreeClassifier\n",
    "from sklearn.ensemble import RandomForestClassifier\n",
    "from sklearn.impute import SimpleImputer\n",
    "from sklearn.linear_model import LinearRegression\n",
    "from sklearn.model_selection import train_test_split\n"
   ]
  },
  {
   "cell_type": "markdown",
   "id": "01f41b4c",
   "metadata": {},
   "source": [
    "Print the version of pandas and scikit-learn that you are using but running the cell below.  "
   ]
  },
  {
   "cell_type": "code",
   "execution_count": 37,
   "id": "831d9640",
   "metadata": {},
   "outputs": [
    {
     "name": "stdout",
     "output_type": "stream",
     "text": [
      "Pandas: 1.5.3\n",
      "Sklearn: 1.3.0\n"
     ]
    }
   ],
   "source": [
    "import sklearn\n",
    "import pandas as pd\n",
    "print(\"Pandas: \"+ pd.__version__)\n",
    "print(\"Sklearn: \"+ sklearn.__version__)"
   ]
  },
  {
   "cell_type": "markdown",
   "id": "d5b9eddf",
   "metadata": {},
   "source": [
    "---\n",
    "## 2. Import the data\n",
    "\n",
    "Import the data"
   ]
  },
  {
   "cell_type": "code",
   "execution_count": 38,
   "id": "2b46584c",
   "metadata": {},
   "outputs": [
    {
     "name": "stdout",
     "output_type": "stream",
     "text": [
      "   Elevation  Aspect  Slope  Horizontal_Distance_To_Hydrology  \\\n",
      "0     3194.0   124.0   13.0                             713.0   \n",
      "1     3079.0     5.0   13.0                               0.0   \n",
      "2     2978.0    24.0   11.0                             134.0   \n",
      "3     3084.0    10.0   13.0                             300.0   \n",
      "4     2644.0   339.0   12.0                             150.0   \n",
      "\n",
      "   Vertical_Distance_To_Hydrology  Horizontal_Distance_To_Roadways  \\\n",
      "0                            89.0                           2854.0   \n",
      "1                             0.0                           2842.0   \n",
      "2                            16.0                           4682.0   \n",
      "3                            67.0                           1398.0   \n",
      "4                            22.0                            618.0   \n",
      "\n",
      "   Hillshade_9am  Hillshade_Noon  Hillshade_3pm  \\\n",
      "0          241.0           231.0          117.0   \n",
      "1          202.0           213.0          147.0   \n",
      "2          214.0           216.0          137.0   \n",
      "3          206.0           214.0          145.0   \n",
      "4          195.0           223.0          167.0   \n",
      "\n",
      "   Horizontal_Distance_To_Fire_Points Soil_Type Wilderness_Area  Cover_Type  \n",
      "0                              3063.0       T32              A3         2.0  \n",
      "1                              2143.0       T23              A3         1.0  \n",
      "2                              2482.0       T29              A1         1.0  \n",
      "3                              2750.0       T31              A3         1.0  \n",
      "4                              1570.0       T29              A1         2.0  \n"
     ]
    }
   ],
   "source": [
    "# code here\n",
    "forest = pd.read_csv('forest.csv')\n",
    "print(forest.head())"
   ]
  },
  {
   "cell_type": "markdown",
   "id": "70124cc1",
   "metadata": {},
   "source": [
    "---\n",
    "## 3.  Process the data as you see fit"
   ]
  },
  {
   "cell_type": "code",
   "execution_count": 22,
   "id": "2c7e6f41",
   "metadata": {},
   "outputs": [
    {
     "name": "stdout",
     "output_type": "stream",
     "text": [
      "Cover_Type\n",
      "1.0    3129.285598\n",
      "2.0    2920.862450\n",
      "Name: Elevation, dtype: float64\n"
     ]
    },
    {
     "data": {
      "image/png": "[encoded data removed]",
      "text/plain": [
       "<Figure size 640x480 with 1 Axes>"
      ]
     },
     "metadata": {},
     "output_type": "display_data"
    },
    {
     "data": {
      "image/png": "[encoded data removed]",
      "text/plain": [
       "<Figure size 640x480 with 1 Axes>"
      ]
     },
     "metadata": {},
     "output_type": "display_data"
    },
    {
     "data": {
      "image/png": "[encoded data removed]",
      "text/plain": [
       "<Figure size 640x480 with 1 Axes>"
      ]
     },
     "metadata": {},
     "output_type": "display_data"
    }
   ],
   "source": [
    "# this gives basic statistics about numeric columns in forest data to help you understand the distributin of it all.\n",
    "#forest.describe()\n",
    "\n",
    "filtered_data = forest[forest['Elevation'] > 3000]\n",
    "#filtered_data.describe()\n",
    "\n",
    "elevation_by_cover = forest.groupby('Cover_Type')['Elevation'].mean()\n",
    "print(elevation_by_cover)\n",
    "\n",
    "forest['Elevation'].hist()\n",
    "plt.title('Elevation Histogram')\n",
    "plt.xlabel('Elevation')\n",
    "plt.ylabel('Frequency')\n",
    "plt.show()\n",
    "\n",
    "forest['Slope'].hist()\n",
    "plt.title('Slope Histogram')\n",
    "plt.xlabel('Slope')\n",
    "plt.ylabel('Frequency')\n",
    "plt.show()\n",
    "\n",
    "forest['Aspect'].hist()\n",
    "plt.title('Aspect Histogram')\n",
    "plt.xlabel('Aspect')\n",
    "plt.ylabel('Frequency')\n",
    "plt.show()"
   ]
  },
  {
   "cell_type": "markdown",
   "id": "da84f3e2",
   "metadata": {},
   "source": [
    "#### In the markdown cell below, describe the way you decided to process the data and the reasons behind those choices"
   ]
  },
  {
   "cell_type": "markdown",
   "id": "c3507e18",
   "metadata": {},
   "source": [
    "I first used the describe() function to look at the main data and the statistics in all of these numerical columns. This was to help me better understand the distribution of it all.\n",
    "\n",
    "Then I filtered the data to have an elevation above 3000 to see if there was as wide of a distribution using the describe() function again. \n",
    "\n",
    "Then I grouped the data by cover type and calculated the mean elevation. The mean elevation for cover type 1 is higher than type 2.\n",
    "\n",
    "Then I made a histogram of some of the different variables to look at their distribution visually. It was interesting to see the different shapes of the graphs. I don't yet know what it all means, but just another way to view the data. "
   ]
  },
  {
   "cell_type": "markdown",
   "id": "60459f9a",
   "metadata": {},
   "source": [
    "---\n",
    "## 4. Fit a classification model\n",
    "\n",
    "For this part, you should build an appropriate classification model that is **NOT** an ensemble.  This model should have optimized hyperparameters.   Report the generalization (1) accuracy, (2) F1, and (3) AUC.\n",
    "\n",
    "Include only the code that fits the model and computes your best estimates of the generalization metrics.   \n",
    "\n",
    "For example, the code in the box should be something like:\n",
    "```\n",
    "clf = MyBestClassifier(hyperparameters = tuned_values)\n",
    "# code to fit model (not commented)\n",
    "# code to compute generalization metrics (not commented)\n",
    "print(accuracy)\n",
    "print(F1)\n",
    "print(AUC)\n",
    "```"
   ]
  },
  {
   "cell_type": "code",
   "execution_count": 39,
   "id": "af83920c",
   "metadata": {},
   "outputs": [
    {
     "name": "stdout",
     "output_type": "stream",
     "text": [
      "Fitting 3 folds for each of 27 candidates, totalling 81 fits\n",
      "[CV] END max_depth=10, min_samples_leaf=1, min_samples_split=2; total time=   0.3s\n",
      "[CV] END max_depth=10, min_samples_leaf=1, min_samples_split=10; total time=   0.3s\n",
      "[CV] END max_depth=10, min_samples_leaf=1, min_samples_split=2; total time=   0.3s\n",
      "[CV] END max_depth=10, min_samples_leaf=1, min_samples_split=5; total time=   0.3s\n",
      "[CV] END max_depth=10, min_samples_leaf=1, min_samples_split=5; total time=   0.4s\n",
      "[CV] END max_depth=10, min_samples_leaf=1, min_samples_split=5; total time=   0.4s\n",
      "[CV] END max_depth=10, min_samples_leaf=1, min_samples_split=10; total time=   0.4s\n",
      "[CV] END max_depth=10, min_samples_leaf=1, min_samples_split=2; total time=   0.4s\n",
      "[CV] END max_depth=10, min_samples_leaf=1, min_samples_split=10; total time=   0.2s\n",
      "[CV] END max_depth=10, min_samples_leaf=2, min_samples_split=2; total time=   0.3s\n",
      "[CV] END max_depth=10, min_samples_leaf=2, min_samples_split=5; total time=   0.3s\n",
      "[CV] END max_depth=10, min_samples_leaf=2, min_samples_split=2; total time=   0.3s\n",
      "[CV] END max_depth=10, min_samples_leaf=2, min_samples_split=2; total time=   0.4s\n",
      "[CV] END max_depth=10, min_samples_leaf=2, min_samples_split=10; total time=   0.3s\n",
      "[CV] END max_depth=10, min_samples_leaf=2, min_samples_split=5; total time=   0.4s\n",
      "[CV] END max_depth=10, min_samples_leaf=2, min_samples_split=5; total time=   0.4s\n",
      "[CV] END max_depth=10, min_samples_leaf=2, min_samples_split=10; total time=   0.4s\n",
      "[CV] END max_depth=10, min_samples_leaf=4, min_samples_split=2; total time=   0.3s\n",
      "[CV] END max_depth=10, min_samples_leaf=4, min_samples_split=2; total time=   0.4s\n",
      "[CV] END max_depth=10, min_samples_leaf=2, min_samples_split=10; total time=   0.4s\n",
      "[CV] END max_depth=10, min_samples_leaf=4, min_samples_split=5; total time=   0.4s\n",
      "[CV] END max_depth=10, min_samples_leaf=4, min_samples_split=2; total time=   0.4s\n",
      "[CV] END max_depth=10, min_samples_leaf=4, min_samples_split=5; total time=   0.3s\n",
      "[CV] END max_depth=10, min_samples_leaf=4, min_samples_split=5; total time=   0.4s\n",
      "[CV] END max_depth=10, min_samples_leaf=4, min_samples_split=10; total time=   0.3s\n",
      "[CV] END max_depth=10, min_samples_leaf=4, min_samples_split=10; total time=   0.4s\n",
      "[CV] END max_depth=10, min_samples_leaf=4, min_samples_split=10; total time=   0.4s\n",
      "[CV] END max_depth=20, min_samples_leaf=1, min_samples_split=2; total time=   0.5s\n",
      "[CV] END max_depth=20, min_samples_leaf=1, min_samples_split=2; total time=   0.5s\n",
      "[CV] END max_depth=20, min_samples_leaf=1, min_samples_split=5; total time=   0.5s\n",
      "[CV] END max_depth=20, min_samples_leaf=1, min_samples_split=2; total time=   0.5s\n",
      "[CV] END max_depth=20, min_samples_leaf=1, min_samples_split=5; total time=   0.6s\n",
      "[CV] END max_depth=20, min_samples_leaf=1, min_samples_split=10; total time=   0.4s\n",
      "[CV] END max_depth=20, min_samples_leaf=1, min_samples_split=5; total time=   0.5s\n",
      "[CV] END max_depth=20, min_samples_leaf=1, min_samples_split=10; total time=   0.4s\n",
      "[CV] END max_depth=20, min_samples_leaf=2, min_samples_split=2; total time=   0.4s\n",
      "[CV] END max_depth=20, min_samples_leaf=1, min_samples_split=10; total time=   0.4s\n",
      "[CV] END max_depth=20, min_samples_leaf=2, min_samples_split=2; total time=   0.5s\n",
      "[CV] END max_depth=20, min_samples_leaf=2, min_samples_split=2; total time=   0.5s\n",
      "[CV] END max_depth=20, min_samples_leaf=2, min_samples_split=5; total time=   0.4s\n",
      "[CV] END max_depth=20, min_samples_leaf=2, min_samples_split=5; total time=   0.4s\n",
      "[CV] END max_depth=20, min_samples_leaf=2, min_samples_split=5; total time=   0.4s\n",
      "[CV] END max_depth=20, min_samples_leaf=2, min_samples_split=10; total time=   0.4s\n",
      "[CV] END max_depth=20, min_samples_leaf=2, min_samples_split=10; total time=   0.4s\n",
      "[CV] END max_depth=20, min_samples_leaf=2, min_samples_split=10; total time=   0.4s\n",
      "[CV] END max_depth=20, min_samples_leaf=4, min_samples_split=2; total time=   0.4s\n",
      "[CV] END max_depth=20, min_samples_leaf=4, min_samples_split=2; total time=   0.4s\n",
      "[CV] END max_depth=20, min_samples_leaf=4, min_samples_split=2; total time=   0.4s\n",
      "[CV] END max_depth=20, min_samples_leaf=4, min_samples_split=5; total time=   0.4s\n",
      "[CV] END max_depth=20, min_samples_leaf=4, min_samples_split=5; total time=   0.4s\n",
      "[CV] END max_depth=20, min_samples_leaf=4, min_samples_split=5; total time=   0.4s\n",
      "[CV] END max_depth=30, min_samples_leaf=1, min_samples_split=2; total time=   0.3s\n",
      "[CV] END max_depth=20, min_samples_leaf=4, min_samples_split=10; total time=   0.4s\n",
      "[CV] END max_depth=20, min_samples_leaf=4, min_samples_split=10; total time=   0.4s\n",
      "[CV] END max_depth=20, min_samples_leaf=4, min_samples_split=10; total time=   0.4s\n",
      "[CV] END max_depth=30, min_samples_leaf=1, min_samples_split=2; total time=   0.4s\n",
      "[CV] END max_depth=30, min_samples_leaf=1, min_samples_split=2; total time=   0.4s\n",
      "[CV] END max_depth=30, min_samples_leaf=1, min_samples_split=5; total time=   0.4s\n",
      "[CV] END max_depth=30, min_samples_leaf=1, min_samples_split=5; total time=   0.4s\n",
      "[CV] END max_depth=30, min_samples_leaf=1, min_samples_split=10; total time=   0.4s\n",
      "[CV] END max_depth=30, min_samples_leaf=1, min_samples_split=5; total time=   0.4s\n",
      "[CV] END max_depth=30, min_samples_leaf=1, min_samples_split=10; total time=   0.4s\n",
      "[CV] END max_depth=30, min_samples_leaf=1, min_samples_split=10; total time=   0.4s\n",
      "[CV] END max_depth=30, min_samples_leaf=2, min_samples_split=2; total time=   0.4s\n",
      "[CV] END max_depth=30, min_samples_leaf=2, min_samples_split=2; total time=   0.4s\n",
      "[CV] END max_depth=30, min_samples_leaf=2, min_samples_split=2; total time=   0.4s\n",
      "[CV] END max_depth=30, min_samples_leaf=2, min_samples_split=5; total time=   0.4s\n",
      "[CV] END max_depth=30, min_samples_leaf=2, min_samples_split=5; total time=   0.4s\n",
      "[CV] END max_depth=30, min_samples_leaf=2, min_samples_split=5; total time=   0.4s\n",
      "[CV] END max_depth=30, min_samples_leaf=2, min_samples_split=10; total time=   0.4s\n",
      "[CV] END max_depth=30, min_samples_leaf=2, min_samples_split=10; total time=   0.4s\n",
      "[CV] END max_depth=30, min_samples_leaf=2, min_samples_split=10; total time=   0.4s\n",
      "[CV] END max_depth=30, min_samples_leaf=4, min_samples_split=2; total time=   0.3s\n",
      "[CV] END max_depth=30, min_samples_leaf=4, min_samples_split=2; total time=   0.4s\n",
      "[CV] END max_depth=30, min_samples_leaf=4, min_samples_split=2; total time=   0.4s\n",
      "[CV] END max_depth=30, min_samples_leaf=4, min_samples_split=5; total time=   0.3s\n",
      "[CV] END max_depth=30, min_samples_leaf=4, min_samples_split=10; total time=   0.3s\n",
      "[CV] END max_depth=30, min_samples_leaf=4, min_samples_split=5; total time=   0.4s\n",
      "[CV] END max_depth=30, min_samples_leaf=4, min_samples_split=10; total time=   0.4s\n",
      "[CV] END max_depth=30, min_samples_leaf=4, min_samples_split=5; total time=   0.4s\n",
      "[CV] END max_depth=30, min_samples_leaf=4, min_samples_split=10; total time=   0.4s\n",
      "Accuracy:  0.791389771742271\n",
      "F1 Score:  0.7910441188818359\n",
      "AUC:  0.8554838576535555\n"
     ]
    }
   ],
   "source": [
    "# code here\n",
    "\n",
    "# F - one hot encoding for categorical columns \n",
    "columns_to_encode = ['Soil_Type', 'Wilderness_Area']\n",
    "forest = pd.get_dummies(forest, columns = columns_to_encode)\n",
    "\n",
    "\n",
    "# A\n",
    "X = forest.drop(columns = ['Cover_Type'])\n",
    "y = forest['Cover_Type']\n",
    "\n",
    "X_train, X_test, y_train, y_test = train_test_split(X, y, test_size = 0.2, random_state = 42)\n",
    "\n",
    "# B\n",
    "clf = DecisionTreeClassifier()\n",
    "\n",
    "# C \n",
    "param_grid = {\n",
    "    'max_depth': [10, 20, 30],\n",
    "    'min_samples_split': [2, 5, 10],\n",
    "    'min_samples_leaf': [1, 2, 4]\n",
    "}\n",
    "\n",
    "grid_search = GridSearchCV(estimator = clf, param_grid = param_grid, cv = 3, n_jobs = -1, verbose = 2)\n",
    "grid_search.fit(X_train, y_train)\n",
    "\n",
    "# D\n",
    "best_clf = grid_search.best_estimator_\n",
    "best_clf.fit(X_train, y_train)\n",
    "\n",
    "# E\n",
    "y_pred = best_clf.predict(X_test)\n",
    "accuracy = accuracy_score(y_test, y_pred)\n",
    "f1 = f1_score(y_test, y_pred, average = 'weighted')\n",
    "y_probs = best_clf.predict_proba(X_test)[:, 1]\n",
    "auc = roc_auc_score(y_test, y_probs)\n",
    "\n",
    "print('Accuracy: ', accuracy)\n",
    "print('F1 Score: ', f1)\n",
    "print('AUC: ', auc)\n",
    "\n"
   ]
  },
  {
   "cell_type": "markdown",
   "id": "a62eb7de",
   "metadata": {},
   "source": [
    "#### In the markdown cell below, describe the process that you used to build your model.\n",
    "\n",
    "Be sure to include why or why not you chose to consider different (non-ensemble) models that we've learned about and how you optimized any relevant hyperparameters in your final model."
   ]
  },
  {
   "cell_type": "markdown",
   "id": "8229e4db",
   "metadata": {},
   "source": [
    "A. I split the data into the features and target variable. Cover Type is the target variable and the other columns are features for this problem. Then i create the training and testing sets\n",
    "\n",
    "B. Then I chose Decision Tree classifier as the classification algorithm. It is simple and a non elastic classifier and well suited for initial modeling and interpretation.\n",
    "\n",
    "C. Then i performed the hyperparameter tuning using GridSearchCV. I performed 3 fold cross validations and it evaluates the different combinations of hyperparameters to find the best set with the different values I provided for max depth, min samples split, and min samples leaf. \n",
    "\n",
    "D. Then I selected the best classifier from the grid search results. This 'best_clf' has the hyperparameters that will yield the best cross-validated performance. Then I trained this best model on the training set. \n",
    "\n",
    "E. I sued the trained model to make predictions from the testing set and then calculted accuracy, f1, and the auc. \n",
    "\n",
    "F. Ran into some errors at the end because the model wasn't handling non-numeric data directly, so i encoded categorical variables with pd.get_dummies.\n",
    "\n",
    "#### Final Answers \n",
    "Accuracy: .79\n",
    "F1 Score: .79\n",
    "AUC: .86"
   ]
  },
  {
   "cell_type": "markdown",
   "id": "0baa4207",
   "metadata": {},
   "source": [
    "---\n",
    "## 5. Fit another classification model\n",
    "\n",
    "For this part, you should build an appropriate classification model that IS an ensemble and report the generalization (1) accuracy, (2) F1, and (3) AUC.\n",
    "\n",
    "Include only the code that fits the model and computes your best estimates of the generalization metrics. "
   ]
  },
  {
   "cell_type": "code",
   "execution_count": 40,
   "id": "c16178ba",
   "metadata": {},
   "outputs": [
    {
     "name": "stdout",
     "output_type": "stream",
     "text": [
      "Random Forest Accuracy:  0.8792256573244727\n",
      "Random Forest F1 Score:  0.8790314807414319\n",
      "Random Forest AUC:  0.9457068113234306\n"
     ]
    }
   ],
   "source": [
    "# D - Data Preprocessing\n",
    "imputer = SimpleImputer(strategy='mean')\n",
    "X_train_imputed = pd.DataFrame(imputer.fit_transform(X_train), columns=X_train.columns)\n",
    "X_test_imputed = pd.DataFrame(imputer.transform(X_test), columns=X_test.columns)\n",
    "\n",
    "# A - Initialize the Random Forest classifier\n",
    "rf_clf = RandomForestClassifier(n_estimators=100, random_state=42)\n",
    "\n",
    "# B - Fit the model to the training data\n",
    "rf_clf.fit(X_train_imputed, y_train)\n",
    "\n",
    "# C - Make predictions on the test data\n",
    "y_rf_pred = rf_clf.predict(X_test_imputed)\n",
    "\n",
    "# Calculate accuracy, F1 score, and AUC\n",
    "rf_accuracy = accuracy_score(y_test, y_rf_pred)\n",
    "rf_f1 = f1_score(y_test, y_rf_pred, average='weighted')\n",
    "y_rf_probs = rf_clf.predict_proba(X_test_imputed)[:, 1]\n",
    "rf_auc = roc_auc_score(y_test, y_rf_probs)\n",
    "\n",
    "# Print the metrics for the Random Forest model\n",
    "print('Random Forest Accuracy: ', rf_accuracy)\n",
    "print('Random Forest F1 Score: ', rf_f1)\n",
    "print('Random Forest AUC: ', rf_auc)\n"
   ]
  },
  {
   "cell_type": "markdown",
   "id": "976b0841",
   "metadata": {},
   "source": [
    "#### In the markdown cell below, describe the process that you used to build your model.\n",
    "\n",
    "Be sure to include why or why not you chose to consider different (ensemble) models that we've learned about and how you optimized any relevant hyperparameters in your final model."
   ]
  },
  {
   "cell_type": "markdown",
   "id": "9ab63afa",
   "metadata": {},
   "source": [
    "A. I chose the Random Forest Classifer as the ensemble method because it combines different decision trees to improve model performance. It is robust and able to handle complex data, and resists overfitting. Then I trained it on the training data from the previous problem. This builds an ensemble of trees from the training data.\n",
    "\n",
    "B. Then I use that trained random forest model to make predictions based on the test data.\n",
    "\n",
    "C. Then I find the accuracy and F1 scor and auc for this random forest model. \n",
    "\n",
    "D. There were some missing values in my data set and Random Forest Classifier does not handle these missing values so I used data imputation at the beginnging to fill in missing values with appropriate values based on the mean of the column. \n",
    "\n",
    "#### Final Answers\n",
    "Accuracy: .88\n",
    "F1 Score: .88\n",
    "AUC: .95"
   ]
  },
  {
   "cell_type": "markdown",
   "id": "f17beb62",
   "metadata": {},
   "source": [
    "---\n",
    "## 6.  Generalization Metrics\n",
    "\n",
    "In the markdown cell below, describe how you chose to estimate and compute the generalization metrics.  That is, tell me how you computed to metrics to ensure that they are good estimates for how the model will perform on new data.  "
   ]
  },
  {
   "cell_type": "markdown",
   "id": "ba222e1c",
   "metadata": {},
   "source": [
    "To estimate and compute the generalization metrics, i used the standard approach that we've done in class.  For accuracy, I compared the model's predictions to the actual target labels on the test dataset. For both models, accuracy was pretty high. This givces an estimate of the model's overall correctness in classification. But it is not enough just by itself. F1 score is a mean of precision and recall. It measures the proportion of true positive predictions out of all positive predictions, and the recall measures the proportion of true positive predictions out of all real positives. It balances the trade off between precision and recall with the imbalanced class distribution, so i computed this using the weighted average which accounts for the class imbalance. And then AUC evaluates the model's ability to distinguish between positive and negative classes  when making probabilistic predictions. It summarizes the performance of the ROC curve across various probability thresholds. ANd it gives a good aggregate measure of classification performance that is less sensitive to class distribution imbalances. \n",
    "\n",
    "To ensure that these were good estimates, I followed the best practices and patterns that we did in class of splitting the dataset into training and testing sets, and using the RandomForestClassifier because it is more robust and minimizes overfitting. I handled the missing data with imputation. and I sued a random_state parametere to ensure I could get these results again. "
   ]
  },
  {
   "cell_type": "markdown",
   "id": "a1c91154",
   "metadata": {},
   "source": [
    "---\n",
    "## 7. Important variables\n",
    "\n",
    "Which variables seem to be the most important for the prediction?  Also comment briefly on how you determined which variables are important. If possible, also comment on how the value of the important features affects the prediction. "
   ]
  },
  {
   "cell_type": "code",
   "execution_count": 41,
   "id": "5b38e829",
   "metadata": {},
   "outputs": [
    {
     "data": {
      "text/html": [
       "<div>\n",
       "<style scoped>\n",
       "    .dataframe tbody tr th:only-of-type {\n",
       "        vertical-align: middle;\n",
       "    }\n",
       "\n",
       "    .dataframe tbody tr th {\n",
       "        vertical-align: top;\n",
       "    }\n",
       "\n",
       "    .dataframe thead th {\n",
       "        text-align: right;\n",
       "    }\n",
       "</style>\n",
       "<table border=\"1\" class=\"dataframe\">\n",
       "  <thead>\n",
       "    <tr style=\"text-align: right;\">\n",
       "      <th></th>\n",
       "      <th>Feature</th>\n",
       "      <th>Importance</th>\n",
       "    </tr>\n",
       "  </thead>\n",
       "  <tbody>\n",
       "    <tr>\n",
       "      <th>0</th>\n",
       "      <td>Elevation</td>\n",
       "      <td>0.276627</td>\n",
       "    </tr>\n",
       "    <tr>\n",
       "      <th>5</th>\n",
       "      <td>Horizontal_Distance_To_Roadways</td>\n",
       "      <td>0.098002</td>\n",
       "    </tr>\n",
       "    <tr>\n",
       "      <th>9</th>\n",
       "      <td>Horizontal_Distance_To_Fire_Points</td>\n",
       "      <td>0.087554</td>\n",
       "    </tr>\n",
       "    <tr>\n",
       "      <th>3</th>\n",
       "      <td>Horizontal_Distance_To_Hydrology</td>\n",
       "      <td>0.064803</td>\n",
       "    </tr>\n",
       "    <tr>\n",
       "      <th>4</th>\n",
       "      <td>Vertical_Distance_To_Hydrology</td>\n",
       "      <td>0.061344</td>\n",
       "    </tr>\n",
       "    <tr>\n",
       "      <th>1</th>\n",
       "      <td>Aspect</td>\n",
       "      <td>0.058511</td>\n",
       "    </tr>\n",
       "    <tr>\n",
       "      <th>7</th>\n",
       "      <td>Hillshade_Noon</td>\n",
       "      <td>0.056098</td>\n",
       "    </tr>\n",
       "    <tr>\n",
       "      <th>8</th>\n",
       "      <td>Hillshade_3pm</td>\n",
       "      <td>0.052107</td>\n",
       "    </tr>\n",
       "    <tr>\n",
       "      <th>6</th>\n",
       "      <td>Hillshade_9am</td>\n",
       "      <td>0.050906</td>\n",
       "    </tr>\n",
       "    <tr>\n",
       "      <th>2</th>\n",
       "      <td>Slope</td>\n",
       "      <td>0.041454</td>\n",
       "    </tr>\n",
       "  </tbody>\n",
       "</table>\n",
       "</div>"
      ],
      "text/plain": [
       "                              Feature  Importance\n",
       "0                           Elevation    0.276627\n",
       "5     Horizontal_Distance_To_Roadways    0.098002\n",
       "9  Horizontal_Distance_To_Fire_Points    0.087554\n",
       "3    Horizontal_Distance_To_Hydrology    0.064803\n",
       "4      Vertical_Distance_To_Hydrology    0.061344\n",
       "1                              Aspect    0.058511\n",
       "7                      Hillshade_Noon    0.056098\n",
       "8                       Hillshade_3pm    0.052107\n",
       "6                       Hillshade_9am    0.050906\n",
       "2                               Slope    0.041454"
      ]
     },
     "execution_count": 41,
     "metadata": {},
     "output_type": "execute_result"
    }
   ],
   "source": [
    "feature_importance = rf_clf.feature_importances_\n",
    "feature_importance_df = pd.DataFrame({'Feature': X_train.columns, 'Importance': feature_importance})\n",
    "feature_importance_df = feature_importance_df.sort_values(by = 'Importance', ascending = False)\n",
    "top_n_features = feature_importance_df.head(10)\n",
    "top_n_features"
   ]
  },
  {
   "cell_type": "markdown",
   "id": "869046a6",
   "metadata": {},
   "source": [
    "I made this data frame of the feature and its importance based on the information gain achieved by each feature when making split decisions in the decision trees from the Random Forest ensemble.  higher feature importance means that the feature contributes more to the model's ability to make accurate predictions.\n",
    "\n",
    "Features with higher importance values are more influential in the prediction process. So this top_n_features dataframe is sorted in descending order of importance. The importance of a features shows its impact on the model's decision making. A higher importance equates to a more critical role in determining the outcome of the prediction. Feature importance can also help us with feature selection and identify the ones that we should focus on to simplify the model. \n",
    "\n",
    "For this problem, elevation is by far the most important feature for prediction, followed by horizontal distance to roadways and horizontal distance to fire points coming next. "
   ]
  },
  {
   "cell_type": "markdown",
   "id": "12903aab",
   "metadata": {},
   "source": [
    "---\n",
    "## 8. Make Predictions\n",
    "\n",
    "Use your best model (the one from either part 4 or part 5) to predict the classes for the instances in the `newdata.csv` file.  Show the code you use to make the prediction and the predictions themselve (there are only 10 new instances, so it is possible print them out)"
   ]
  },
  {
   "cell_type": "code",
   "execution_count": 65,
   "id": "94bcf2f8",
   "metadata": {},
   "outputs": [
    {
     "name": "stdout",
     "output_type": "stream",
     "text": [
      "[2. 1. 2. 2. 2. 1. 2. 2. 2. 2.]\n"
     ]
    }
   ],
   "source": [
    "new_data = pd.read_csv('newdata.csv')\n",
    "new_data = pd.get_dummies(new_data, columns=['Soil_Type', 'Wilderness_Area'])\n",
    "\n",
    "new_data = new_data.reindex(columns=X_train_imputed.columns, fill_value=0)\n",
    "\n",
    "imputer = SimpleImputer(strategy='mean')\n",
    "imputer.fit(X_train_imputed)\n",
    "new_data_imputed = pd.DataFrame(imputer.transform(new_data), columns=new_data.columns)\n",
    "\n",
    "rf_clf = RandomForestClassifier(n_estimators=100, random_state=42)\n",
    "rf_clf.fit(X_train_imputed, y_train)\n",
    "\n",
    "new_data_predictions = rf_clf.predict(new_data_imputed)\n",
    "print(new_data_predictions)\n"
   ]
  },
  {
   "cell_type": "markdown",
   "id": "b5fa00ba",
   "metadata": {},
   "source": [
    "---\n",
    "## 9.  Regression\n",
    "\n",
    "Now suppose that you want to predict \"Elevation\". Repeat steps (2) and (3).  This time use \"Elevation\" as the target and the other variables (except \"Cover_Type\") as the predictors.  "
   ]
  },
  {
   "cell_type": "code",
   "execution_count": 75,
   "id": "bc7a09de",
   "metadata": {},
   "outputs": [],
   "source": [
    "# code here\n",
    "forest = pd.read_csv('forest.csv')\n",
    "forest_copy = forest.copy()\n",
    "forest_copy = pd.get_dummies(forest_copy, columns=['Soil_Type', 'Wilderness_Area'])\n",
    "X = forest_copy.drop(columns=['Elevation'])\n",
    "y = forest_copy['Elevation']  \n",
    "\n",
    "X_train, X_test, y_train, y_test = train_test_split(X, y, test_size=0.2, random_state=42)\n",
    "\n"
   ]
  },
  {
   "cell_type": "markdown",
   "id": "c8db421c",
   "metadata": {},
   "source": [
    "Run a linear regression model.  Compute the generalization RSME."
   ]
  },
  {
   "cell_type": "code",
   "execution_count": 76,
   "id": "f1d24af4",
   "metadata": {},
   "outputs": [
    {
     "name": "stdout",
     "output_type": "stream",
     "text": [
      "Generalization Rooted Mean Squared Error:  119.76547091266772\n"
     ]
    }
   ],
   "source": [
    "forest_copy = forest.copy()\n",
    "forest_copy = pd.get_dummies(forest_copy, columns=['Soil_Type', 'Wilderness_Area'])\n",
    "X = forest_copy.drop(columns=['Elevation'])\n",
    "y = forest_copy['Elevation']  \n",
    "\n",
    "X_train, X_test, y_train, y_test = train_test_split(X, y, test_size=0.2, random_state=42)\n",
    "\n",
    "imputer = SimpleImputer(strategy='mean')\n",
    "X_train_imputed = imputer.fit_transform(X_train)\n",
    "X_test_imputed = imputer.transform(X_test)\n",
    "\n",
    "model = LinearRegression()\n",
    "model.fit(X_train_imputed, y_train)\n",
    "\n",
    "y_pred = model.predict(X_test_imputed)\n",
    "rmse = np.sqrt(mean_squared_error(y_test, y_pred))\n",
    "print('Generalization Rooted Mean Squared Error: ', rmse)\n"
   ]
  },
  {
   "cell_type": "markdown",
   "id": "435f890e",
   "metadata": {},
   "source": [
    "Based on the generalization RSME, comment on how well your model performs in the markdown cell below.  For example, to what value should you compare the RMSE to determine if your model as any predictive power?"
   ]
  },
  {
   "cell_type": "markdown",
   "id": "717a98db",
   "metadata": {},
   "source": [
    "The generalization RMSE is a measure of the overall predictive performance of the Linear Regression Model. And it's best to compare the RMSE of a certain model to the baseline RMSE (see code below). And  lower RMSE value indicates better model performance. So the Linear Regression Model has an RMSE of 119.76 and when compared to the baseline prediction of the general forest model (which is 202.869), the Linear regression one is better and has more predictive power. "
   ]
  },
  {
   "cell_type": "markdown",
   "id": "88074929",
   "metadata": {},
   "source": [
    "---\n",
    "## 10.  Resources\n",
    "\n",
    "Please tell me all the resources that you used to complete the exam.  Also tell me about how much time it took you."
   ]
  },
  {
   "cell_type": "markdown",
   "id": "ab790793",
   "metadata": {},
   "source": [
    "I opened the midterm on Saturday, and finished in on Monday evening. I probably worked for it for 2 hours on Saturday, and then on Monday for 5-6. \n",
    "\n",
    "I used Hands on Machine Learning as well as ISLP and ISLR in the chapters that we've read and covered in class. I used class slides as well as the code that Dr. Tass has submitted in class. I also used some of my previous coded labs to see what kind of code I used for different models. Then I watched some things onf 3Blue1Brown Youtube. I also used DataCamp for syntax with Random forest classification and in trying to fix my errors. "
   ]
  },
  {
   "cell_type": "markdown",
   "id": "3b7aa592",
   "metadata": {},
   "source": [
    "---\n",
    "# Additional code\n",
    "\n",
    "Include the rest of the code that you used to answers the questions.  Please have neat, well commented code.  If you used a .py file, copy and paste your code in the cell below. "
   ]
  },
  {
   "cell_type": "code",
   "execution_count": 79,
   "id": "55bcded6",
   "metadata": {},
   "outputs": [
    {
     "name": "stdout",
     "output_type": "stream",
     "text": [
      "Baseline RMSE: 202.86998591485016\n"
     ]
    }
   ],
   "source": [
    "#To compare my linear model's RMSE with a baseline model, I created a simple baseline that predicts the mean of the target variable which is Elevation for this problem.\n",
    "# This is creating the baseline model\n",
    "baseline_predictions = np.full_like(forest['Elevation'], forest['Elevation'].mean()) \n",
    "\n",
    "# This is calculting the RMSE for the baseline model \n",
    "baseline_rmse = np.sqrt(mean_squared_error(forest['Elevation'], baseline_predictions))\n",
    "print(\"Baseline RMSE:\", baseline_rmse)\n",
    "\n",
    "# Comparing the two models will help you determine if the model provides meaningful predictive power. "
   ]
  }
 ],
 "metadata": {
  "kernelspec": {
   "display_name": "Python 3 (ipykernel)",
   "language": "python",
   "name": "python3"
  },
  "language_info": {
   "codemirror_mode": {
    "name": "ipython",
    "version": 3
   },
   "file_extension": ".py",
   "mimetype": "text/x-python",
   "name": "python",
   "nbconvert_exporter": "python",
   "pygments_lexer": "ipython3",
   "version": "3.10.12"
  }
 },
 "nbformat": 4,
 "nbformat_minor": 5
}
