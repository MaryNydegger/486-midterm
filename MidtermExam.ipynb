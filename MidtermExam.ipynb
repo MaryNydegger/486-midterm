{
 "cells": [
  {
   "cell_type": "markdown",
   "id": "fe184906",
   "metadata": {},
   "source": [
    "# Midterm Exam\n",
    "\n",
    "The data for this exam is a subset of the forest cover type data that has been used in several machine learning publications.  Find the subset of the data that you should use for the exam in my [Data GitHub repository](https://github.com/esnt/Data/tree/main/Forest) in the file called `forest.csv` (\"Forest\" folder in the main Data repo). \n",
    "\n",
    "Please include the requested code (and ONLY the requested code) in the appropriate cells below the questions.  Extra code that you used for exploring the data, building and evaluating models, and anything else, should be *well-documented* and included at the end of the notebook. As you answer the questions below, keep the following in mind:\n",
    "\n",
    "* There is not necessarily a \"best\" model that I am expecting you to find\n",
    "* You do not need to try every single type of model that we have learned in class, but I am interested in the reasons that you chose to use or not use certain models.\n",
    "* I should be able to run your notebook without error\n",
    "* You should not use ChatGPT or similar tool to help you write the code or answer the questions, but you are allowed to use the books, LearningSuite, and the internet.\n",
    "\n",
    "When you are finished, be sure this completed .ipynb file is in the GitHub repository.  "
   ]
  },
  {
   "cell_type": "markdown",
   "id": "454d55eb",
   "metadata": {},
   "source": [
    "### Variables\n",
    "\n",
    "Here is a description of the variables included in the data.  The target is `Cover_Type`.\n",
    "\n",
    "**Name / Data Type / Measurement / Description**\n",
    "\n",
    "* Elevation / quantitative /meters / Elevation in meters\n",
    "* Aspect / quantitative / azimuth / Aspect in degrees azimuth\n",
    "* Slope / quantitative / degrees / Slope in degrees\n",
    "* Horizontal_Distance_To_Hydrology / quantitative / meters / Horz Dist to nearest surface water features\n",
    "* Vertical_Distance_To_Hydrology / quantitative / meters / Vert Dist to nearest surface water features\n",
    "* Horizontal_Distance_To_Roadways / quantitative / meters / Horz Dist to nearest roadway\n",
    "* Hillshade_9am / quantitative / 0 to 255 index / Hillshade index at 9am, summer solstice\n",
    "* Hillshade_Noon / quantitative / 0 to 255 index / Hillshade index at noon, summer soltice\n",
    "* Hillshade_3pm / quantitative / 0 to 255 index / Hillshade index at 3pm, summer solstice\n",
    "* Horizontal_Distance_To_Fire_Points / quantitative / meters / Horz Dist to nearest wildfire ignition points\n",
    "* Wilderness_Area / qualitative / A1-A4 / Wilderness area designation\n",
    "* Soil_Type  / qualitative / S1-S40 / Soil Type designation\n",
    "* Cover_Type (2 types) / integer / 1 and 2 / Forest Cover Type designation (original data has 7 types)"
   ]
  },
  {
   "cell_type": "markdown",
   "id": "79df21e0",
   "metadata": {},
   "source": [
    "## 1. Import libraries\n",
    "Import all the libraries that are necessary for running your code. "
   ]
  },
  {
   "cell_type": "code",
   "execution_count": null,
   "id": "34b7462b",
   "metadata": {},
   "outputs": [],
   "source": [
    "# code here\n"
   ]
  },
  {
   "cell_type": "markdown",
   "id": "01f41b4c",
   "metadata": {},
   "source": [
    "Print the version of pandas and scikit-learn that you are using but running the cell below.  "
   ]
  },
  {
   "cell_type": "code",
   "execution_count": null,
   "id": "831d9640",
   "metadata": {},
   "outputs": [],
   "source": [
    "import sklearn\n",
    "import pandas as pd\n",
    "print(\"Pandas: \"+ pd.__version__)\n",
    "print(\"Sklearn: \"+ sklearn.__version__)"
   ]
  },
  {
   "cell_type": "markdown",
   "id": "d5b9eddf",
   "metadata": {},
   "source": [
    "---\n",
    "## 2. Import the data\n",
    "\n",
    "Import the data"
   ]
  },
  {
   "cell_type": "code",
   "execution_count": 1,
   "id": "2b46584c",
   "metadata": {},
   "outputs": [],
   "source": [
    "# code here\n"
   ]
  },
  {
   "cell_type": "markdown",
   "id": "70124cc1",
   "metadata": {},
   "source": [
    "---\n",
    "## 3.  Process the data as you see fit"
   ]
  },
  {
   "cell_type": "code",
   "execution_count": 2,
   "id": "2c7e6f41",
   "metadata": {},
   "outputs": [],
   "source": [
    "# code here\n"
   ]
  },
  {
   "cell_type": "markdown",
   "id": "da84f3e2",
   "metadata": {},
   "source": [
    "#### In the markdown cell below, describe the way you decided to process the data and the reasons behind those choices"
   ]
  },
  {
   "cell_type": "markdown",
   "id": "c3507e18",
   "metadata": {},
   "source": []
  },
  {
   "cell_type": "markdown",
   "id": "60459f9a",
   "metadata": {},
   "source": [
    "---\n",
    "## 4. Fit a classification model\n",
    "\n",
    "For this part, you should build an appropriate classification model that is **NOT** an ensemble.  This model should have optimized hyperparameters.   Report the generalization (1) accuracy, (2) F1, and (3) AUC.\n",
    "\n",
    "Include only the code that fits the model and computes your best estimates of the generalization metrics.   \n",
    "\n",
    "For example, the code in the box should be something like:\n",
    "```\n",
    "clf = MyBestClassifier(hyperparameters = tuned_values)\n",
    "# code to fit model (not commented)\n",
    "# code to compute generalization metrics (not commented)\n",
    "print(accuracy)\n",
    "print(F1)\n",
    "print(AUC)\n",
    "```"
   ]
  },
  {
   "cell_type": "code",
   "execution_count": 3,
   "id": "af83920c",
   "metadata": {},
   "outputs": [],
   "source": [
    "# code here\n"
   ]
  },
  {
   "cell_type": "markdown",
   "id": "a62eb7de",
   "metadata": {},
   "source": [
    "#### In the markdown cell below, describe the process that you used to build your model.\n",
    "\n",
    "Be sure to include why or why not you chose to consider different (non-ensemble) models that we've learned about and how you optimized any relevant hyperparameters in your final model."
   ]
  },
  {
   "cell_type": "markdown",
   "id": "8229e4db",
   "metadata": {},
   "source": []
  },
  {
   "cell_type": "markdown",
   "id": "0baa4207",
   "metadata": {},
   "source": [
    "---\n",
    "## 5. Fit another classification model\n",
    "\n",
    "For this part, you should build an appropriate classification model that IS an ensemble and report the generalization (1) accuracy, (2) F1, and (3) AUC.\n",
    "\n",
    "Include only the code that fits the model and computes your best estimates of the generalization metrics. "
   ]
  },
  {
   "cell_type": "code",
   "execution_count": null,
   "id": "c16178ba",
   "metadata": {},
   "outputs": [],
   "source": [
    "# code here\n"
   ]
  },
  {
   "cell_type": "markdown",
   "id": "976b0841",
   "metadata": {},
   "source": [
    "#### In the markdown cell below, describe the process that you used to build your model.\n",
    "\n",
    "Be sure to include why or why not you chose to consider different (ensemble) models that we've learned about and how you optimized any relevant hyperparameters in your final model."
   ]
  },
  {
   "cell_type": "markdown",
   "id": "9ab63afa",
   "metadata": {},
   "source": []
  },
  {
   "cell_type": "markdown",
   "id": "f17beb62",
   "metadata": {},
   "source": [
    "---\n",
    "## 6.  Generalization Metrics\n",
    "\n",
    "In the markdown cell below, describe how you chose to estimate and compute the generalization metrics.  That is, tell me how you computed to metrics to ensure that they are good estimates for how the model will perform on new data.  "
   ]
  },
  {
   "cell_type": "markdown",
   "id": "ba222e1c",
   "metadata": {},
   "source": []
  },
  {
   "cell_type": "markdown",
   "id": "a1c91154",
   "metadata": {},
   "source": [
    "---\n",
    "## 7. Important variables\n",
    "\n",
    "Which variables seem to be the most important for the prediction?  Also comment briefly on how you determined which variables are important. If possible, also comment on how the value of the important features affects the prediction. "
   ]
  },
  {
   "cell_type": "code",
   "execution_count": null,
   "id": "5b38e829",
   "metadata": {},
   "outputs": [],
   "source": []
  },
  {
   "cell_type": "markdown",
   "id": "12903aab",
   "metadata": {},
   "source": [
    "---\n",
    "## 8. Make Predictions\n",
    "\n",
    "Use your best model (the one from either part 4 or part 5) to predict the classes for the instances in the `newdata.csv` file.  Show the code you use to make the prediction and the predictions themselve (there are only 10 new instances, so it is possible print them out)"
   ]
  },
  {
   "cell_type": "code",
   "execution_count": null,
   "id": "94bcf2f8",
   "metadata": {},
   "outputs": [],
   "source": []
  },
  {
   "cell_type": "markdown",
   "id": "b5fa00ba",
   "metadata": {},
   "source": [
    "---\n",
    "## 9.  Regression\n",
    "\n",
    "Now suppose that you want to predict \"Elevation\". Repeat steps (2) and (3).  This time use \"Elevation\" as the target and the other variables (except \"Cover_Type\") as the predictors.  "
   ]
  },
  {
   "cell_type": "code",
   "execution_count": 4,
   "id": "bc7a09de",
   "metadata": {},
   "outputs": [],
   "source": [
    "# code here\n"
   ]
  },
  {
   "cell_type": "markdown",
   "id": "c8db421c",
   "metadata": {},
   "source": [
    "Run a linear regression model.  Compute the generalization RSME."
   ]
  },
  {
   "cell_type": "code",
   "execution_count": 5,
   "id": "f1d24af4",
   "metadata": {},
   "outputs": [],
   "source": [
    "# code here\n"
   ]
  },
  {
   "cell_type": "markdown",
   "id": "435f890e",
   "metadata": {},
   "source": [
    "Based on the generalization RSME, comment on how well your model performs in the markdown cell below.  For example, to what value should you compare the RMSE to determine if your model as any predictive power?"
   ]
  },
  {
   "cell_type": "markdown",
   "id": "717a98db",
   "metadata": {},
   "source": []
  },
  {
   "cell_type": "markdown",
   "id": "88074929",
   "metadata": {},
   "source": [
    "---\n",
    "## 10.  Resources\n",
    "\n",
    "Please tell me all the resources that you used to complete the exam.  Also tell me about how much time it took you."
   ]
  },
  {
   "cell_type": "markdown",
   "id": "ab790793",
   "metadata": {},
   "source": []
  },
  {
   "cell_type": "markdown",
   "id": "3b7aa592",
   "metadata": {},
   "source": [
    "---\n",
    "# Additional code\n",
    "\n",
    "Include the rest of the code that you used to answers the questions.  Please have neat, well commented code.  If you used a .py file, copy and paste your code in the cell below. "
   ]
  },
  {
   "cell_type": "code",
   "execution_count": null,
   "id": "55bcded6",
   "metadata": {},
   "outputs": [],
   "source": []
  }
 ],
 "metadata": {
  "kernelspec": {
   "display_name": "Python 3 (ipykernel)",
   "language": "python",
   "name": "python3"
  },
  "language_info": {
   "codemirror_mode": {
    "name": "ipython",
    "version": 3
   },
   "file_extension": ".py",
   "mimetype": "text/x-python",
   "name": "python",
   "nbconvert_exporter": "python",
   "pygments_lexer": "ipython3",
   "version": "3.9.12"
  }
 },
 "nbformat": 4,
 "nbformat_minor": 5
}
